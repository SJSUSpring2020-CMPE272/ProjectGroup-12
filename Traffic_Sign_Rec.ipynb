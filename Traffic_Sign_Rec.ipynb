{
 "cells": [
  {
   "cell_type": "code",
   "execution_count": 1,
   "metadata": {},
   "outputs": [],
   "source": [
    "import tensorflow as tf\n",
    "import pandas\n",
    "import numpy as np\n",
    "import os"
   ]
  },
  {
   "cell_type": "code",
   "execution_count": 2,
   "metadata": {},
   "outputs": [],
   "source": [
    "from tensorflow.keras.models import Sequential\n",
    "from tensorflow.keras.layers import Dense, Conv2D, Flatten, Dropout, MaxPooling2D, BatchNormalization\n",
    "from tensorflow.keras.preprocessing.image import ImageDataGenerator\n",
    "from tensorflow.keras.optimizers import Adam\n",
    "from sklearn.utils import class_weight"
   ]
  },
  {
   "cell_type": "code",
   "execution_count": 3,
   "metadata": {},
   "outputs": [],
   "source": [
    "path = os.getcwd()\n",
    "path = os.path.join(path, \"gtsrb-german-traffic-sign\")"
   ]
  },
  {
   "cell_type": "code",
   "execution_count": 4,
   "metadata": {},
   "outputs": [],
   "source": [
    "batch_size = 64\n",
    "epochs = 30\n",
    "INIT_LR = 1e-3\n",
    "IMG_HEIGHT = 32\n",
    "IMG_WIDTH = 32\n",
    "numClasses = 43"
   ]
  },
  {
   "cell_type": "code",
   "execution_count": 5,
   "metadata": {
    "scrolled": false
   },
   "outputs": [],
   "source": [
    "train_image_generator = ImageDataGenerator(rescale=1./255, \n",
    "                                           rotation_range=10, \n",
    "                                           zoom_range=0.15,\n",
    "                                           width_shift_range=0.1,\n",
    "                                           height_shift_range=0.1,\n",
    "                                           shear_range=0.15,\n",
    "                                           horizontal_flip=False,\n",
    "                                           vertical_flip=False,\n",
    "                                           fill_mode=\"nearest\")\n",
    "\n",
    "test_image_generator = ImageDataGenerator(validation_split=0.8, rescale=1./255)"
   ]
  },
  {
   "cell_type": "code",
   "execution_count": 6,
   "metadata": {},
   "outputs": [],
   "source": [
    "train_csv = os.path.join(path, \"Train.csv\")\n",
    "train_df = pandas.read_csv(train_csv, dtype=str, usecols = [\"Path\",\"ClassId\"])"
   ]
  },
  {
   "cell_type": "code",
   "execution_count": 7,
   "metadata": {},
   "outputs": [
    {
     "name": "stdout",
     "output_type": "stream",
     "text": [
      "Found 39209 validated image filenames belonging to 43 classes.\n"
     ]
    }
   ],
   "source": [
    "train_data_gen = train_image_generator.flow_from_dataframe(\n",
    "        dataframe=train_df,\n",
    "        directory=path,\n",
    "        shuffle=True,\n",
    "        x_col=\"Path\",\n",
    "        y_col=\"ClassId\",\n",
    "        target_size=(IMG_HEIGHT, IMG_WIDTH),\n",
    "        batch_size=batch_size,\n",
    "        class_mode='categorical')"
   ]
  },
  {
   "cell_type": "code",
   "execution_count": 8,
   "metadata": {},
   "outputs": [],
   "source": [
    "class_weights = class_weight.compute_class_weight(\n",
    "               'balanced',\n",
    "                np.unique(train_data_gen.classes), \n",
    "                train_data_gen.classes)"
   ]
  },
  {
   "cell_type": "code",
   "execution_count": 9,
   "metadata": {},
   "outputs": [],
   "source": [
    "test_csv = os.path.join(path, \"Test.csv\")\n",
    "test_df = pandas.read_csv(test_csv, dtype=str, usecols = [\"Path\",\"ClassId\"])"
   ]
  },
  {
   "cell_type": "code",
   "execution_count": 10,
   "metadata": {},
   "outputs": [
    {
     "name": "stdout",
     "output_type": "stream",
     "text": [
      "Found 10104 validated image filenames belonging to 43 classes.\n",
      "Found 2526 validated image filenames belonging to 43 classes.\n"
     ]
    }
   ],
   "source": [
    "val_data_gen = test_image_generator.flow_from_dataframe(\n",
    "        dataframe=test_df,\n",
    "        directory=path,\n",
    "        subset='validation',\n",
    "        x_col=\"Path\",\n",
    "        y_col=\"ClassId\",\n",
    "        target_size=(IMG_HEIGHT, IMG_WIDTH),\n",
    "        batch_size=batch_size,\n",
    "        class_mode='categorical')\n",
    "\n",
    "test_data_gen = test_image_generator.flow_from_dataframe(\n",
    "        dataframe=test_df,\n",
    "        directory=path,\n",
    "        subset='training',\n",
    "        x_col=\"Path\",\n",
    "        y_col=\"ClassId\",\n",
    "        target_size=(IMG_HEIGHT, IMG_WIDTH),\n",
    "        batch_size=batch_size,\n",
    "        class_mode='categorical')"
   ]
  },
  {
   "cell_type": "code",
   "execution_count": 11,
   "metadata": {},
   "outputs": [],
   "source": [
    "model = Sequential([\n",
    "    Conv2D(8, 5, padding='same', activation='relu', input_shape=(IMG_HEIGHT, IMG_WIDTH ,3)),\n",
    "    BatchNormalization(axis=-1),\n",
    "    MaxPooling2D(pool_size=(2, 2)),\n",
    "    Conv2D(16, 3, padding='same', activation='relu'),\n",
    "    BatchNormalization(axis=-1),\n",
    "    Conv2D(16, 3, padding='same', activation='relu'),\n",
    "    BatchNormalization(axis=-1),\n",
    "    MaxPooling2D(pool_size=(2, 2)),\n",
    "    Conv2D(32, 3, padding='same', activation='relu'),\n",
    "    BatchNormalization(axis=-1),\n",
    "    Conv2D(32, 3, padding='same', activation='relu'),\n",
    "    BatchNormalization(axis=-1),\n",
    "    MaxPooling2D(pool_size=(2, 2)),\n",
    "    Flatten(),\n",
    "    Dense(128, activation='relu'),\n",
    "    BatchNormalization(),\n",
    "    Dropout(0.5),\n",
    "    Flatten(),\n",
    "    Dense(128, activation='relu'),\n",
    "    BatchNormalization(),\n",
    "    Dropout(0.5),\n",
    "    Dense(numClasses, activation='softmax')\n",
    "])"
   ]
  },
  {
   "cell_type": "code",
   "execution_count": 12,
   "metadata": {},
   "outputs": [],
   "source": [
    "opt = Adam(lr=INIT_LR, decay=INIT_LR / (epochs * 0.5))"
   ]
  },
  {
   "cell_type": "code",
   "execution_count": 13,
   "metadata": {},
   "outputs": [],
   "source": [
    "model.compile(optimizer=opt,\n",
    "              loss=tf.keras.losses.CategoricalCrossentropy(),\n",
    "              metrics=['accuracy'])"
   ]
  },
  {
   "cell_type": "code",
   "execution_count": 14,
   "metadata": {},
   "outputs": [
    {
     "name": "stdout",
     "output_type": "stream",
     "text": [
      "WARNING:tensorflow:From <ipython-input-14-bc31012a6043>:7: Model.fit_generator (from tensorflow.python.keras.engine.training) is deprecated and will be removed in a future version.\n",
      "Instructions for updating:\n",
      "Please use Model.fit, which supports generators.\n",
      "WARNING:tensorflow:sample_weight modes were coerced from\n",
      "  ...\n",
      "    to  \n",
      "  ['...']\n",
      "WARNING:tensorflow:sample_weight modes were coerced from\n",
      "  ...\n",
      "    to  \n",
      "  ['...']\n",
      "Train for 500 steps, validate for 158 steps\n",
      "Epoch 1/30\n",
      "500/500 [==============================] - 59s 118ms/step - loss: 2.9309 - accuracy: 0.2391 - val_loss: 1.9536 - val_accuracy: 0.3712\n",
      "Epoch 2/30\n",
      "500/500 [==============================] - 64s 127ms/step - loss: 1.7053 - accuracy: 0.4545 - val_loss: 1.1392 - val_accuracy: 0.5993\n",
      "Epoch 3/30\n",
      "500/500 [==============================] - 66s 131ms/step - loss: 1.2119 - accuracy: 0.5991 - val_loss: 0.7466 - val_accuracy: 0.7537\n",
      "Epoch 4/30\n",
      "500/500 [==============================] - 68s 136ms/step - loss: 0.8586 - accuracy: 0.7168 - val_loss: 0.5648 - val_accuracy: 0.8057\n",
      "Epoch 5/30\n",
      "500/500 [==============================] - 68s 136ms/step - loss: 0.6417 - accuracy: 0.7937 - val_loss: 0.3872 - val_accuracy: 0.8749\n",
      "Epoch 6/30\n",
      "500/500 [==============================] - 66s 131ms/step - loss: 0.5119 - accuracy: 0.8338 - val_loss: 0.3786 - val_accuracy: 0.8768\n",
      "Epoch 7/30\n",
      "500/500 [==============================] - 68s 135ms/step - loss: 0.4329 - accuracy: 0.8626 - val_loss: 0.3424 - val_accuracy: 0.8894\n",
      "Epoch 8/30\n",
      "500/500 [==============================] - 65s 130ms/step - loss: 0.3631 - accuracy: 0.8850 - val_loss: 0.2328 - val_accuracy: 0.9303\n",
      "Epoch 9/30\n",
      "500/500 [==============================] - 66s 131ms/step - loss: 0.3160 - accuracy: 0.8983 - val_loss: 0.2384 - val_accuracy: 0.9248\n",
      "Epoch 10/30\n",
      "500/500 [==============================] - 66s 132ms/step - loss: 0.2816 - accuracy: 0.9117 - val_loss: 0.2160 - val_accuracy: 0.9356\n",
      "Epoch 11/30\n",
      "500/500 [==============================] - 65s 129ms/step - loss: 0.2534 - accuracy: 0.9198 - val_loss: 0.2507 - val_accuracy: 0.9225\n",
      "Epoch 12/30\n",
      "500/500 [==============================] - 64s 128ms/step - loss: 0.2366 - accuracy: 0.9263 - val_loss: 0.2533 - val_accuracy: 0.9262\n",
      "Epoch 13/30\n",
      "500/500 [==============================] - 64s 129ms/step - loss: 0.2267 - accuracy: 0.9298 - val_loss: 0.2429 - val_accuracy: 0.9330\n",
      "Epoch 14/30\n",
      "500/500 [==============================] - 68s 136ms/step - loss: 0.2089 - accuracy: 0.9361 - val_loss: 0.2089 - val_accuracy: 0.9370\n",
      "Epoch 15/30\n",
      "500/500 [==============================] - 69s 138ms/step - loss: 0.1944 - accuracy: 0.9402 - val_loss: 0.2088 - val_accuracy: 0.9419\n",
      "Epoch 16/30\n",
      "500/500 [==============================] - 64s 129ms/step - loss: 0.1824 - accuracy: 0.9438 - val_loss: 0.1999 - val_accuracy: 0.9445\n",
      "Epoch 17/30\n",
      "500/500 [==============================] - 65s 129ms/step - loss: 0.1618 - accuracy: 0.9490 - val_loss: 0.1819 - val_accuracy: 0.9482\n",
      "Epoch 18/30\n",
      "500/500 [==============================] - 64s 128ms/step - loss: 0.1625 - accuracy: 0.9486 - val_loss: 0.1849 - val_accuracy: 0.9527\n",
      "Epoch 19/30\n",
      "500/500 [==============================] - 64s 128ms/step - loss: 0.1539 - accuracy: 0.9515 - val_loss: 0.1887 - val_accuracy: 0.9519\n",
      "Epoch 20/30\n",
      "500/500 [==============================] - 64s 128ms/step - loss: 0.1511 - accuracy: 0.9544 - val_loss: 0.2196 - val_accuracy: 0.9425\n",
      "Epoch 21/30\n",
      "500/500 [==============================] - 64s 128ms/step - loss: 0.1424 - accuracy: 0.9568 - val_loss: 0.2231 - val_accuracy: 0.9411\n",
      "Epoch 22/30\n",
      "500/500 [==============================] - 64s 128ms/step - loss: 0.1403 - accuracy: 0.9579 - val_loss: 0.2141 - val_accuracy: 0.9469\n",
      "Epoch 23/30\n",
      "500/500 [==============================] - 66s 131ms/step - loss: 0.1376 - accuracy: 0.9582 - val_loss: 0.1955 - val_accuracy: 0.9468\n",
      "Epoch 24/30\n",
      "500/500 [==============================] - 66s 132ms/step - loss: 0.1262 - accuracy: 0.9619 - val_loss: 0.2219 - val_accuracy: 0.9428\n",
      "Epoch 25/30\n",
      "500/500 [==============================] - 65s 131ms/step - loss: 0.1294 - accuracy: 0.9600 - val_loss: 0.1897 - val_accuracy: 0.9494\n",
      "Epoch 26/30\n",
      "500/500 [==============================] - 65s 131ms/step - loss: 0.1150 - accuracy: 0.9645 - val_loss: 0.1883 - val_accuracy: 0.9515\n",
      "Epoch 27/30\n",
      "500/500 [==============================] - 67s 134ms/step - loss: 0.1124 - accuracy: 0.9647 - val_loss: 0.2166 - val_accuracy: 0.9419\n",
      "Epoch 28/30\n",
      "500/500 [==============================] - 66s 131ms/step - loss: 0.1119 - accuracy: 0.9660 - val_loss: 0.2105 - val_accuracy: 0.9458\n",
      "Epoch 29/30\n",
      "500/500 [==============================] - 65s 129ms/step - loss: 0.1069 - accuracy: 0.9666 - val_loss: 0.1761 - val_accuracy: 0.9580\n",
      "Epoch 30/30\n",
      "500/500 [==============================] - 63s 126ms/step - loss: 0.1059 - accuracy: 0.9669 - val_loss: 0.1562 - val_accuracy: 0.9605\n"
     ]
    }
   ],
   "source": [
    "history = model.fit_generator(\n",
    "    train_data_gen,\n",
    "    steps_per_epoch=500,\n",
    "    epochs=epochs,\n",
    "    validation_data=val_data_gen,\n",
    "    class_weight=class_weights,\n",
    "    verbose = 1\n",
    ")"
   ]
  },
  {
   "cell_type": "code",
   "execution_count": 15,
   "metadata": {},
   "outputs": [
    {
     "name": "stdout",
     "output_type": "stream",
     "text": [
      "WARNING:tensorflow:sample_weight modes were coerced from\n",
      "  ...\n",
      "    to  \n",
      "  ['...']\n",
      "40/40 [==============================] - 1s 36ms/step - loss: 0.1511 - accuracy: 0.9600\n"
     ]
    }
   ],
   "source": [
    "test_loss, test_accuracy = model.evaluate(test_data_gen)"
   ]
  },
  {
   "cell_type": "code",
   "execution_count": 16,
   "metadata": {},
   "outputs": [
    {
     "name": "stdout",
     "output_type": "stream",
     "text": [
      "WARNING:tensorflow:From C:\\Users\\shwet\\anaconda3\\envs\\py3-TF2.0\\lib\\site-packages\\tensorflow_core\\python\\ops\\resource_variable_ops.py:1786: calling BaseResourceVariable.__init__ (from tensorflow.python.ops.resource_variable_ops) with constraint is deprecated and will be removed in a future version.\n",
      "Instructions for updating:\n",
      "If using Keras pass *_constraint arguments to layers.\n",
      "INFO:tensorflow:Assets written to: TrafficSignRec\\assets\n"
     ]
    }
   ],
   "source": [
    "model.save(\"TrafficSignRec\")"
   ]
  },
  {
   "cell_type": "code",
   "execution_count": null,
   "metadata": {},
   "outputs": [],
   "source": []
  }
 ],
 "metadata": {
  "kernelspec": {
   "display_name": "Python [conda env:py3-TF2.0]",
   "language": "python",
   "name": "conda-env-py3-TF2.0-py"
  },
  "language_info": {
   "codemirror_mode": {
    "name": "ipython",
    "version": 3
   },
   "file_extension": ".py",
   "mimetype": "text/x-python",
   "name": "python",
   "nbconvert_exporter": "python",
   "pygments_lexer": "ipython3",
   "version": "3.7.7"
  }
 },
 "nbformat": 4,
 "nbformat_minor": 4
}
