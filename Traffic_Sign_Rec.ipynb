{
 "cells": [
  {
   "cell_type": "code",
   "execution_count": 1,
   "metadata": {},
   "outputs": [],
   "source": [
    "import tensorflow as tf\n",
    "import pandas"
   ]
  },
  {
   "cell_type": "code",
   "execution_count": 2,
   "metadata": {},
   "outputs": [],
   "source": [
    "from tensorflow.keras.models import Sequential\n",
    "from tensorflow.keras.layers import Dense, Conv2D, Flatten, Dropout, MaxPooling2D, BatchNormalization\n",
    "from tensorflow.keras.preprocessing.image import ImageDataGenerator\n",
    "from tensorflow.keras.optimizers import Adam\n",
    "from tensorflow.keras.utils import to_categorical\n",
    "from PIL import Image\n",
    "from pathlib import Path\n",
    "from skimage import io\n",
    "from skimage import transform\n",
    "from sklearn.utils import class_weight"
   ]
  },
  {
   "cell_type": "code",
   "execution_count": 3,
   "metadata": {},
   "outputs": [],
   "source": [
    "import numpy as np\n",
    "import os\n",
    "import random\n",
    "import matplotlib.pyplot as plt"
   ]
  },
  {
   "cell_type": "code",
   "execution_count": 4,
   "metadata": {},
   "outputs": [],
   "source": [
    "import tensorflow_datasets as tfds"
   ]
  },
  {
   "cell_type": "code",
   "execution_count": 5,
   "metadata": {},
   "outputs": [],
   "source": [
    "path = os.getcwd()\n",
    "path = os.path.join(path, \"gtsrb-german-traffic-sign\")"
   ]
  },
  {
   "cell_type": "code",
   "execution_count": 6,
   "metadata": {},
   "outputs": [],
   "source": [
    "batch_size = 64\n",
    "epochs = 30\n",
    "INIT_LR = 1e-3\n",
    "IMG_HEIGHT = 32\n",
    "IMG_WIDTH = 32\n",
    "numClasses = 43"
   ]
  },
  {
   "cell_type": "code",
   "execution_count": 7,
   "metadata": {
    "scrolled": false
   },
   "outputs": [],
   "source": [
    "train_image_generator = ImageDataGenerator(rescale=1./255, \n",
    "                                           rotation_range=10, \n",
    "                                           zoom_range=0.15,\n",
    "                                           width_shift_range=0.1,\n",
    "                                           height_shift_range=0.1,\n",
    "                                           shear_range=0.15,\n",
    "                                           horizontal_flip=False,\n",
    "                                           vertical_flip=False,\n",
    "                                           fill_mode=\"nearest\")\n",
    "\n",
    "test_image_generator = ImageDataGenerator(rescale=1./255)"
   ]
  },
  {
   "cell_type": "code",
   "execution_count": 8,
   "metadata": {},
   "outputs": [],
   "source": [
    "train_csv = os.path.join(path, \"Train.csv\")\n",
    "train_df = pandas.read_csv(train_csv, dtype=str, usecols = [\"Path\",\"ClassId\"])"
   ]
  },
  {
   "cell_type": "code",
   "execution_count": 9,
   "metadata": {},
   "outputs": [
    {
     "name": "stdout",
     "output_type": "stream",
     "text": [
      "Found 39209 validated image filenames belonging to 43 classes.\n"
     ]
    }
   ],
   "source": [
    "train_data_gen = train_image_generator.flow_from_dataframe(\n",
    "        dataframe=train_df,\n",
    "        directory=path,\n",
    "        shuffle=True,\n",
    "        x_col=\"Path\",\n",
    "        y_col=\"ClassId\",\n",
    "        target_size=(IMG_HEIGHT, IMG_WIDTH),\n",
    "        batch_size=batch_size,\n",
    "        class_mode='categorical')"
   ]
  },
  {
   "cell_type": "code",
   "execution_count": 10,
   "metadata": {},
   "outputs": [],
   "source": [
    "class_weights = class_weight.compute_class_weight(\n",
    "               'balanced',\n",
    "                np.unique(train_data_gen.classes), \n",
    "                train_data_gen.classes)"
   ]
  },
  {
   "cell_type": "code",
   "execution_count": 11,
   "metadata": {},
   "outputs": [],
   "source": [
    "train_data, train_targets = next(train_data_gen)"
   ]
  },
  {
   "cell_type": "code",
   "execution_count": 12,
   "metadata": {},
   "outputs": [],
   "source": [
    "test_csv = os.path.join(path, \"Test.csv\")\n",
    "valid_df = pandas.read_csv(test_csv, dtype=str, usecols = [\"Path\",\"ClassId\"])"
   ]
  },
  {
   "cell_type": "code",
   "execution_count": 13,
   "metadata": {},
   "outputs": [
    {
     "name": "stdout",
     "output_type": "stream",
     "text": [
      "Found 12630 validated image filenames belonging to 43 classes.\n"
     ]
    }
   ],
   "source": [
    "val_data_gen = test_image_generator.flow_from_dataframe(\n",
    "        dataframe=valid_df,\n",
    "        directory=path,\n",
    "        x_col=\"Path\",\n",
    "        y_col=\"ClassId\",\n",
    "        target_size=(IMG_HEIGHT, IMG_WIDTH),\n",
    "        batch_size=batch_size,\n",
    "        class_mode='categorical')"
   ]
  },
  {
   "cell_type": "code",
   "execution_count": 14,
   "metadata": {},
   "outputs": [],
   "source": [
    "valid_data, valid_targets = next(val_data_gen)"
   ]
  },
  {
   "cell_type": "code",
   "execution_count": 15,
   "metadata": {},
   "outputs": [],
   "source": [
    "model = Sequential([\n",
    "    Conv2D(8, 5, padding='same', activation='relu', input_shape=(IMG_HEIGHT, IMG_WIDTH ,3)),\n",
    "    BatchNormalization(axis=-1),\n",
    "    MaxPooling2D(pool_size=(2, 2)),\n",
    "    Conv2D(16, 3, padding='same', activation='relu'),\n",
    "    BatchNormalization(axis=-1),\n",
    "    Conv2D(16, 3, padding='same', activation='relu'),\n",
    "    BatchNormalization(axis=-1),\n",
    "    MaxPooling2D(pool_size=(2, 2)),\n",
    "    Conv2D(32, 3, padding='same', activation='relu'),\n",
    "    BatchNormalization(axis=-1),\n",
    "    Conv2D(32, 3, padding='same', activation='relu'),\n",
    "    BatchNormalization(axis=-1),\n",
    "    MaxPooling2D(pool_size=(2, 2)),\n",
    "    Flatten(),\n",
    "    Dense(128, activation='relu'),\n",
    "    BatchNormalization(),\n",
    "    Dropout(0.5),\n",
    "    Flatten(),\n",
    "    Dense(128, activation='relu'),\n",
    "    BatchNormalization(),\n",
    "    Dropout(0.5),\n",
    "    Dense(numClasses, activation='softmax')\n",
    "])"
   ]
  },
  {
   "cell_type": "code",
   "execution_count": 16,
   "metadata": {},
   "outputs": [],
   "source": [
    "opt = Adam(lr=INIT_LR, decay=INIT_LR / (epochs * 0.5))"
   ]
  },
  {
   "cell_type": "code",
   "execution_count": 17,
   "metadata": {},
   "outputs": [],
   "source": [
    "model.compile(optimizer=opt,\n",
    "              loss=tf.keras.losses.CategoricalCrossentropy(),\n",
    "              metrics=['accuracy'])"
   ]
  },
  {
   "cell_type": "code",
   "execution_count": 18,
   "metadata": {},
   "outputs": [
    {
     "name": "stdout",
     "output_type": "stream",
     "text": [
      "WARNING:tensorflow:From <ipython-input-18-bc31012a6043>:7: Model.fit_generator (from tensorflow.python.keras.engine.training) is deprecated and will be removed in a future version.\n",
      "Instructions for updating:\n",
      "Please use Model.fit, which supports generators.\n",
      "WARNING:tensorflow:sample_weight modes were coerced from\n",
      "  ...\n",
      "    to  \n",
      "  ['...']\n",
      "WARNING:tensorflow:sample_weight modes were coerced from\n",
      "  ...\n",
      "    to  \n",
      "  ['...']\n",
      "Train for 500 steps, validate for 198 steps\n",
      "Epoch 1/30\n",
      "500/500 [==============================] - 53s 105ms/step - loss: 3.2335 - accuracy: 0.1840 - val_loss: 2.0070 - val_accuracy: 0.3850\n",
      "Epoch 2/30\n",
      "500/500 [==============================] - 58s 115ms/step - loss: 1.8509 - accuracy: 0.4249 - val_loss: 1.2496 - val_accuracy: 0.5867\n",
      "Epoch 3/30\n",
      "500/500 [==============================] - 57s 115ms/step - loss: 1.3105 - accuracy: 0.5734 - val_loss: 0.9829 - val_accuracy: 0.6761\n",
      "Epoch 4/30\n",
      "500/500 [==============================] - 57s 114ms/step - loss: 0.9897 - accuracy: 0.6746 - val_loss: 0.6279 - val_accuracy: 0.7946\n",
      "Epoch 5/30\n",
      "500/500 [==============================] - 58s 116ms/step - loss: 0.7694 - accuracy: 0.7485 - val_loss: 0.5013 - val_accuracy: 0.8378\n",
      "Epoch 6/30\n",
      "500/500 [==============================] - 57s 114ms/step - loss: 0.5940 - accuracy: 0.8088 - val_loss: 0.4044 - val_accuracy: 0.8751\n",
      "Epoch 7/30\n",
      "500/500 [==============================] - 58s 115ms/step - loss: 0.5018 - accuracy: 0.8369 - val_loss: 0.3547 - val_accuracy: 0.8897\n",
      "Epoch 8/30\n",
      "500/500 [==============================] - 57s 114ms/step - loss: 0.4191 - accuracy: 0.8667 - val_loss: 0.3837 - val_accuracy: 0.8808\n",
      "Epoch 9/30\n",
      "500/500 [==============================] - 57s 115ms/step - loss: 0.3612 - accuracy: 0.8859 - val_loss: 0.3020 - val_accuracy: 0.9082\n",
      "Epoch 10/30\n",
      "500/500 [==============================] - 57s 115ms/step - loss: 0.3291 - accuracy: 0.8967 - val_loss: 0.3001 - val_accuracy: 0.9080\n",
      "Epoch 11/30\n",
      "500/500 [==============================] - 59s 118ms/step - loss: 0.2913 - accuracy: 0.9087 - val_loss: 0.3014 - val_accuracy: 0.9086\n",
      "Epoch 12/30\n",
      "500/500 [==============================] - 58s 117ms/step - loss: 0.2610 - accuracy: 0.9174 - val_loss: 0.3231 - val_accuracy: 0.9074\n",
      "Epoch 13/30\n",
      "500/500 [==============================] - 57s 114ms/step - loss: 0.2439 - accuracy: 0.9248 - val_loss: 0.2564 - val_accuracy: 0.9247\n",
      "Epoch 14/30\n",
      "500/500 [==============================] - 57s 114ms/step - loss: 0.2248 - accuracy: 0.9288 - val_loss: 0.3178 - val_accuracy: 0.9078\n",
      "Epoch 15/30\n",
      "500/500 [==============================] - 58s 115ms/step - loss: 0.2128 - accuracy: 0.9330 - val_loss: 0.2768 - val_accuracy: 0.9231\n",
      "Epoch 16/30\n",
      "500/500 [==============================] - 58s 115ms/step - loss: 0.2035 - accuracy: 0.9353 - val_loss: 0.2765 - val_accuracy: 0.9215\n",
      "Epoch 17/30\n",
      "500/500 [==============================] - 57s 114ms/step - loss: 0.1868 - accuracy: 0.9428 - val_loss: 0.2377 - val_accuracy: 0.9354\n",
      "Epoch 18/30\n",
      "500/500 [==============================] - 57s 114ms/step - loss: 0.1788 - accuracy: 0.9438 - val_loss: 0.2451 - val_accuracy: 0.9292\n",
      "Epoch 19/30\n",
      "500/500 [==============================] - 58s 116ms/step - loss: 0.1733 - accuracy: 0.9469 - val_loss: 0.2416 - val_accuracy: 0.9342\n",
      "Epoch 20/30\n",
      "500/500 [==============================] - 57s 115ms/step - loss: 0.1650 - accuracy: 0.9483 - val_loss: 0.2848 - val_accuracy: 0.9240\n",
      "Epoch 21/30\n",
      "500/500 [==============================] - 57s 114ms/step - loss: 0.1615 - accuracy: 0.9496 - val_loss: 0.2169 - val_accuracy: 0.9379\n",
      "Epoch 22/30\n",
      "500/500 [==============================] - 57s 115ms/step - loss: 0.1469 - accuracy: 0.9562 - val_loss: 0.2003 - val_accuracy: 0.9470\n",
      "Epoch 23/30\n",
      "500/500 [==============================] - 57s 114ms/step - loss: 0.1369 - accuracy: 0.9573 - val_loss: 0.2152 - val_accuracy: 0.9398\n",
      "Epoch 24/30\n",
      "500/500 [==============================] - 57s 114ms/step - loss: 0.1375 - accuracy: 0.9574 - val_loss: 0.1937 - val_accuracy: 0.9462\n",
      "Epoch 25/30\n",
      "500/500 [==============================] - 57s 115ms/step - loss: 0.1351 - accuracy: 0.9571 - val_loss: 0.2570 - val_accuracy: 0.9293\n",
      "Epoch 26/30\n",
      "500/500 [==============================] - 57s 115ms/step - loss: 0.1270 - accuracy: 0.9594 - val_loss: 0.2338 - val_accuracy: 0.9381\n",
      "Epoch 27/30\n",
      "500/500 [==============================] - 57s 114ms/step - loss: 0.1275 - accuracy: 0.9612 - val_loss: 0.1793 - val_accuracy: 0.9483\n",
      "Epoch 28/30\n",
      "500/500 [==============================] - 57s 115ms/step - loss: 0.1204 - accuracy: 0.9637 - val_loss: 0.1828 - val_accuracy: 0.9470\n",
      "Epoch 29/30\n",
      "500/500 [==============================] - 57s 114ms/step - loss: 0.1109 - accuracy: 0.9664 - val_loss: 0.2064 - val_accuracy: 0.9464\n",
      "Epoch 30/30\n",
      "500/500 [==============================] - 57s 115ms/step - loss: 0.1124 - accuracy: 0.9652 - val_loss: 0.2163 - val_accuracy: 0.9442\n"
     ]
    }
   ],
   "source": [
    "history = model.fit_generator(\n",
    "    train_data_gen,\n",
    "    steps_per_epoch=500,\n",
    "    epochs=epochs,\n",
    "    validation_data=val_data_gen,\n",
    "    class_weight=class_weights,\n",
    "    verbose = 1\n",
    ")"
   ]
  },
  {
   "cell_type": "code",
   "execution_count": 19,
   "metadata": {},
   "outputs": [
    {
     "name": "stdout",
     "output_type": "stream",
     "text": [
      "WARNING:tensorflow:From C:\\Users\\shwet\\anaconda3\\envs\\py3-TF2.0\\lib\\site-packages\\tensorflow_core\\python\\ops\\resource_variable_ops.py:1786: calling BaseResourceVariable.__init__ (from tensorflow.python.ops.resource_variable_ops) with constraint is deprecated and will be removed in a future version.\n",
      "Instructions for updating:\n",
      "If using Keras pass *_constraint arguments to layers.\n",
      "INFO:tensorflow:Assets written to: TrafficSignRec\\assets\n"
     ]
    }
   ],
   "source": [
    "model.save(\"TrafficSignRec\")"
   ]
  },
  {
   "cell_type": "code",
   "execution_count": null,
   "metadata": {},
   "outputs": [],
   "source": []
  },
  {
   "cell_type": "code",
   "execution_count": null,
   "metadata": {},
   "outputs": [],
   "source": []
  }
 ],
 "metadata": {
  "kernelspec": {
   "display_name": "Python [conda env:py3-TF2.0]",
   "language": "python",
   "name": "conda-env-py3-TF2.0-py"
  },
  "language_info": {
   "codemirror_mode": {
    "name": "ipython",
    "version": 3
   },
   "file_extension": ".py",
   "mimetype": "text/x-python",
   "name": "python",
   "nbconvert_exporter": "python",
   "pygments_lexer": "ipython3",
   "version": "3.7.7"
  }
 },
 "nbformat": 4,
 "nbformat_minor": 4
}
